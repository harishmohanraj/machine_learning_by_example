{
 "cells": [
  {
   "cell_type": "code",
   "execution_count": 53,
   "metadata": {},
   "outputs": [],
   "source": [
    "\"\"\"\n",
    "The below code implements a simple version of neural networks using Python 3.\n",
    "\n",
    "For Simplicity sake I have used 1 input layer with 4 nurons, 1 hidden layer with 3 \n",
    "nurons and 1 output layer.\n",
    "\n",
    "Below are the steps I followed for implementing the Neural networks.\n",
    "\n",
    "Step 1: Initialize the weights and biases with random value and in the each iterations we will \n",
    "        update the weights and biases.\n",
    "\n",
    "Step 2: Implementing forward propogation\n",
    "        \n",
    "        Step 2a: We take the matrix dot product of the input(X) and the weights associated with the\n",
    "                 input layer and the next hidden layer and add bias vector to it to perform linear \n",
    "                 transformation.\n",
    "                 \n",
    "        Step 2b: Perform non-linear transformation using an activation function (Sigmoid) by passing\n",
    "                 the result we got in step 2a as an argument to the sigmoid funcition.\n",
    "                 \n",
    "        Step 2c: Perform linear transformation again on the above result by taking the matrix dot product \n",
    "                 of the hidden layer and the weights associated with the hidden layer and the output layer\n",
    "                 and add bias vector to it to perform linear transformation.\n",
    " \n",
    "        Step 2d: Perform non-linear transformation using an activation function (Sigmoid) by passing\n",
    "                 the result we got in step 2c as an argument to the sigmoid funcition to get the output\n",
    "                 of the forward propogation for 1 iteration.\n",
    "\n",
    "Step 3: Implementing Back propogation\n",
    "        \n",
    "        Step 3a: Compare prediction with actual output and calculate the error (Actual – Predicted).\n",
    "                 Also known as error at the output layer.\n",
    "        \n",
    "        Step 3b: Compute the slope/ gradient of hidden and output layer neurons by using the \n",
    "                 formula x * (1 – x).\n",
    "                 \n",
    "        Step 3c: Compute the change factor delta at the output layer by multiplying the \n",
    "                 error and the output activation value we got from the above step.\n",
    "                 \n",
    "        Step 3d: Compute the error at the hidden layer by taking the dot product of output \n",
    "                 layer delta with weight parameters of edges between the hidden and \n",
    "                 output layer(theta2 in our case).\n",
    "                 \n",
    "        Step 3e: Update the weights of the hidden layer and the output layer by taking the\n",
    "                 dot product of the activations and the delta of the respective layers and \n",
    "                 multiply the same with the learning rate.\n",
    "                 \n",
    "        Step 3f: Update the biases at the output and the hidden layer.\n",
    "        \n",
    "Step 4: Repeat the step 2 and step 3 till we reach epoch.\n",
    "                 \n",
    "\"\"\"\n",
    "\n",
    "import numpy as np\n",
    "\n"
   ]
  },
  {
   "cell_type": "code",
   "execution_count": 68,
   "metadata": {},
   "outputs": [],
   "source": [
    "#Input array\n",
    "X = np.array([[1,0,1,0],[1,0,1,1],[0,1,0,1]]);\n",
    "#Output\n",
    "y=np.array([[1],[1],[0]]);\n"
   ]
  },
  {
   "cell_type": "code",
   "execution_count": 69,
   "metadata": {},
   "outputs": [],
   "source": [
    "# Sigmoid Function\n",
    "def sigmoid(x):\n",
    "    return 1/(1 + np.exp(-x));\n"
   ]
  },
  {
   "cell_type": "code",
   "execution_count": 70,
   "metadata": {},
   "outputs": [],
   "source": [
    "#Derivative of Sigmoid Function\n",
    "def derivatives_sigmoid(x):\n",
    "    return x * (1 -x)\n"
   ]
  },
  {
   "cell_type": "code",
   "execution_count": 71,
   "metadata": {},
   "outputs": [],
   "source": [
    "# Variable initialization\n",
    "# Setting the number of training training iterations\n",
    "epoch=5000; # 1 roundtrip  of forward and backward propagation is known as Epoch\n",
    "alpha=0.1; # Setting learning rate\n",
    "input_layer_neurons = X.shape[1]; # Number of features in data set\n",
    "hidden_layer_neurons = 3 # Number of hidden layers neurons\n",
    "output_neurons = 1 # Number of neurons at output layer\n"
   ]
  },
  {
   "cell_type": "code",
   "execution_count": 72,
   "metadata": {},
   "outputs": [],
   "source": [
    "#Weight initialization\n",
    "theta1 = np.random.uniform(size = (input_layer_neurons, hiddenlayer_neurons));\n",
    "theta2 = np.random.uniform(size = (hiddenlayer_neurons, output_neurons));\n"
   ]
  },
  {
   "cell_type": "code",
   "execution_count": 73,
   "metadata": {},
   "outputs": [],
   "source": [
    "#Bias initialization\n",
    "bias_1_vector = np.random.uniform(size=(1,hiddenlayer_neurons));\n",
    "bias_2_vector = np.random.uniform(size=(1,output_neurons));\n"
   ]
  },
  {
   "cell_type": "code",
   "execution_count": 74,
   "metadata": {
    "scrolled": true
   },
   "outputs": [
    {
     "name": "stdout",
     "output_type": "stream",
     "text": [
      "[[ 0.98919338]\n",
      " [ 0.99097045]\n",
      " [ 0.98927959]]\n"
     ]
    }
   ],
   "source": [
    "# Meat of the Neural network\n",
    "\n",
    "for i in range(epoch):\n",
    "    # Forward Propogation\n",
    "    ## Calculating the activation value for the hidden layer\n",
    "    hidden_layer_input_1 = np.dot(X, theta1);\n",
    "    hidden_layer_input=hidden_layer_input_1 + bias_1_vector;\n",
    "    hidden_layer_activations = sigmoid(hidden_layer_input);\n",
    "    ## Calculating the activation value for the output layer\n",
    "    output_layer_input_1 = np.dot(hidden_layer_activations, theta2);\n",
    "    output_layer_input=output_layer_input_1 + bias_2_vector;\n",
    "    output = sigmoid(output_layer_input);\n",
    "    #print(\"(Actual – Predicted): \\n\", y - output)\n",
    "    \n",
    "    # Backward Propogation\n",
    "    Error_vector = y - output;\n",
    "    # Calculating the slope of the output and the hidden layer.\n",
    "    slope_output_layer = derivatives_sigmoid(output);\n",
    "    slope_hidden_layer = derivatives_sigmoid(hidden_layer_activations);\n",
    "    # Calculate the delta at the output layer\n",
    "    delta_output = Error_vector * slope_output_layer;\n",
    "    # Calculate the error at the hidden alyer\n",
    "    error_at_hidden_layer = delta_output.dot(theta2.T);\n",
    "    # Calculate the delta at the hidden layer\n",
    "    delta_hidden = error_at_hidden_layer * slope_hidden_layer;\n",
    "    # Update the weights at the output and the hidden layer\n",
    "    theta2 += (hidden_layer_activations.T).dot(delta_output) * alpha;\n",
    "    theta1 += (X.T).dot(delta_hidden) * alpha;\n",
    "    # Update the biases at the output and the hidden layer\n",
    "    bias_2_vector += np.sum(delta_output, axis=0, keepdims=True) * alpha;\n",
    "    bias_1_vector += np.sum(delta_hidden, axis=0, keepdims=True) * alpha;\n",
    "\n",
    "print(output)\n",
    "    "
   ]
  },
  {
   "cell_type": "code",
   "execution_count": null,
   "metadata": {},
   "outputs": [],
   "source": []
  },
  {
   "cell_type": "code",
   "execution_count": null,
   "metadata": {},
   "outputs": [],
   "source": []
  }
 ],
 "metadata": {
  "kernelspec": {
   "display_name": "Python 3",
   "language": "python",
   "name": "python3"
  },
  "language_info": {
   "codemirror_mode": {
    "name": "ipython",
    "version": 3
   },
   "file_extension": ".py",
   "mimetype": "text/x-python",
   "name": "python",
   "nbconvert_exporter": "python",
   "pygments_lexer": "ipython3",
   "version": "3.6.2"
  }
 },
 "nbformat": 4,
 "nbformat_minor": 2
}
