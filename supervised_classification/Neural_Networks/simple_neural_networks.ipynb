{
 "cells": [
  {
   "cell_type": "code",
   "execution_count": 17,
   "metadata": {},
   "outputs": [],
   "source": [
    "\"\"\"\n",
    "The below code implements a simple version of neural networks\n",
    "using Python 3.\n",
    "\n",
    "Steps for implementing the Neural networks\n",
    "\n",
    "Step 1: Initialize the weights and biases with random value and in teh subsequent iterations we will \n",
    "        update the weights and biases.\n",
    "\n",
    "Step 2: Implementing forward propogation\n",
    "        \n",
    "        Step 2a: We take the matrix dot product of the input(X) and the weights associated with the\n",
    "                 input layer and the next hidden layer and add bias vector to it to perform linear \n",
    "                 transformation.\n",
    "                 \n",
    "        Step 2b: Perform non-linear transformation using an activation function (Sigmoid) by passing\n",
    "                 the result we got in step 2a as an argument to the sigmoid funcition.\n",
    "                 \n",
    "        Step 2c: Perform linear transformation again on the above result by taking the matrix dot product \n",
    "                 of the hidden layer and the weights associated with the hidden layer and the output layer\n",
    "                 and add bias vector to it to perform linear transformation.\n",
    " \n",
    "        Step 2d: Perform non-linear transformation using an activation function (Sigmoid) by passing\n",
    "                 the result we got in step 2c as an argument to the sigmoid funcition to get the output\n",
    "                 of the forward propogation for 1 iteration.\n",
    "                 \n",
    "\n",
    "\n",
    "X      \n",
    "          X\n",
    "\n",
    "X\n",
    "          X          X\n",
    "\n",
    "X\n",
    "          X\n",
    "          \n",
    "X\n",
    "\"\"\"\n",
    "import numpy as np"
   ]
  },
  {
   "cell_type": "code",
   "execution_count": 18,
   "metadata": {},
   "outputs": [],
   "source": [
    "#Input array\n",
    "X = np.array([[1,0,1,0],[1,0,1,1],[0,1,0,1]]);\n",
    "#Output\n",
    "y=np.array([[1],[1],[0]]);"
   ]
  },
  {
   "cell_type": "code",
   "execution_count": 19,
   "metadata": {},
   "outputs": [],
   "source": [
    "# Sigmoid Function\n",
    "def sigmoid(x):\n",
    "    return 1/(1 + np.exp(-x));"
   ]
  },
  {
   "cell_type": "code",
   "execution_count": 20,
   "metadata": {},
   "outputs": [],
   "source": [
    "#Derivative of Sigmoid Function\n",
    "def derivatives_sigmoid(x):\n",
    "    return x * (1 -x)"
   ]
  },
  {
   "cell_type": "code",
   "execution_count": 21,
   "metadata": {},
   "outputs": [],
   "source": [
    "# Variable initialization\n",
    "# Setting the number of training training iterations\n",
    "epoch=5000; # 1 roundtrip  of forward and backward propagation is known as Epoch\n",
    "alpha=0.1; # Setting learning rate\n",
    "input_layer_neurons = X.shape[1]; # Number of features in data set\n",
    "hidden_layer_neurons = 3 # Number of hidden layers neurons\n",
    "output_neurons = 1 # Number of neurons at output layer"
   ]
  },
  {
   "cell_type": "code",
   "execution_count": 22,
   "metadata": {},
   "outputs": [],
   "source": [
    "#Weight initialization\n",
    "theta1 = np.random.uniform(size = (input_layer_neurons, hiddenlayer_neurons));\n",
    "theta2 = np.random.uniform(size = (hiddenlayer_neurons, output_neurons));"
   ]
  },
  {
   "cell_type": "code",
   "execution_count": 23,
   "metadata": {},
   "outputs": [],
   "source": [
    "#Bias initialization\n",
    "bias_1_vector = np.random.uniform(size=(1,hiddenlayer_neurons));\n",
    "bias_2_vector = np.random.uniform(size=(1,output_neurons));"
   ]
  },
  {
   "cell_type": "code",
   "execution_count": 30,
   "metadata": {},
   "outputs": [
    {
     "name": "stdout",
     "output_type": "stream",
     "text": [
      "Error Vector: \n",
      " [[ 0.14311948]\n",
      " [ 0.13905606]\n",
      " [-0.84349303]]\n"
     ]
    }
   ],
   "source": [
    "# Meat of the Neural network\n",
    "\n",
    "for i in range(epoch):\n",
    "    # Forward Propogation\n",
    "    hidden_layer_input_1 = np.dot(X, theta1);\n",
    "    hidden_layer_input=hidden_layer_input_1 + bias_1_vector;\n",
    "    hidden_layer_activations = sigmoid(hidden_layer_input);\n",
    "    \n",
    "    output_layer_input_1 = np.dot(hidden_layer_activations, theta2);\n",
    "    output_layer_input=output_layer_input_1 + bias_2_vector;\n",
    "    output = sigmoid(output_layer_input);\n",
    "\n",
    "print(\"Error Vector: \\n\", y - output)\n",
    "    "
   ]
  },
  {
   "cell_type": "code",
   "execution_count": null,
   "metadata": {},
   "outputs": [],
   "source": []
  }
 ],
 "metadata": {
  "kernelspec": {
   "display_name": "Python 3",
   "language": "python",
   "name": "python3"
  },
  "language_info": {
   "codemirror_mode": {
    "name": "ipython",
    "version": 3
   },
   "file_extension": ".py",
   "mimetype": "text/x-python",
   "name": "python",
   "nbconvert_exporter": "python",
   "pygments_lexer": "ipython3",
   "version": "3.6.2"
  }
 },
 "nbformat": 4,
 "nbformat_minor": 2
}
