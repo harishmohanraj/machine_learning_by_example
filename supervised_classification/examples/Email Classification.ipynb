{
 "cells": [
  {
   "cell_type": "code",
   "execution_count": 1,
   "metadata": {},
   "outputs": [
    {
     "name": "stdout",
     "output_type": "stream",
     "text": [
      "                                              Subject  \\\n",
      "0   Enq ref: 12345678   Missing Bank Statement - A...   \n",
      "1                        CBO-2291811 Statement needed   \n",
      "2                                             DWF LLP   \n",
      "3             ABC Industries - Bank Statement Queries   \n",
      "4                                   URGENT Statements   \n",
      "5   CBO-1234567 / 123456789 / DDA No. - 0123456. A...   \n",
      "6                                        Copy Invoice   \n",
      "7                                    Payment in query   \n",
      "8                                   ABC sales limited   \n",
      "9                      Loan Account Statement Request   \n",
      "10                                 Statement required   \n",
      "11                       £210 credited in CBO-8819111   \n",
      "12                      Statement needed for feb 2015   \n",
      "13                £2021 on 24-Jun to ACC no.091121111   \n",
      "14                         Account statement required   \n",
      "15                            VBB LTD - £190 credited   \n",
      "16                                    Loan statement    \n",
      "17                            Invoice of Ref-21144111   \n",
      "18  CBO-1234567 / 123456789 / DDA No. - 9810011 Am...   \n",
      "19                          Unknown credit in account   \n",
      "20  DDA óñ 5474113 Amount GBP450 value Date - 12th...   \n",
      "21                          Direct Debit Credit query   \n",
      "22        Send data from MFP11682801 19/05/2017 16:34   \n",
      "23                         Standing order instruction   \n",
      "24                          Direct Debit Credit query   \n",
      "25                                 Cancellation of DD   \n",
      "26                    Standing Orders T MNC & J Kenny   \n",
      "27                   CBO-1484546 : Bacs Trace Request   \n",
      "28                               BACS proof 299638556   \n",
      "29                                               Bacs   \n",
      "..                                                ...   \n",
      "31                          Direct debit cancellation   \n",
      "32                              Direct debit returned   \n",
      "33                                          Cancel DD   \n",
      "34                                        BACS recall   \n",
      "35                                 Direct debit query   \n",
      "36                                   DD not processed   \n",
      "37                                 Need info on BACS    \n",
      "38                        CBO-1238781 DD cancellation   \n",
      "39          DD cancelllation for the account 98719911   \n",
      "40                                      Bacs forecast   \n",
      "41                                Closure of Accounts   \n",
      "42  ACME Phone LTD Manchester Branch - bank accoun...   \n",
      "43                           Closing account 21312311   \n",
      "44                  ABC Industries - Account closures   \n",
      "45               30-00-01 819188111 - Closing account   \n",
      "46                                   BNB accountants    \n",
      "47           AKN Industries - Close secondary account   \n",
      "48                          Closing multiple accounts   \n",
      "49                       Closing account - RCA metals   \n",
      "50                                           Closures   \n",
      "51                                   TNT LTD accounts   \n",
      "52                    TBT industries account closures   \n",
      "53      CB0-11231231 Closing account 30-00-01 1181911   \n",
      "54                                  Accounts to close   \n",
      "55                          Multiple accounts closure   \n",
      "56                      Moving funds to other account   \n",
      "57                   Closing operations in birmingham   \n",
      "58                        Moving operations to london   \n",
      "59                                  Unwanted accounts   \n",
      "60             Closing the last account in Manchester   \n",
      "\n",
      "                                              Message  \\\n",
      "0    Hi,   For reference, I attach a copy of an ea...   \n",
      "1    Please could you help us identify the Credit ...   \n",
      "2    Sort Codeæ 30-00-01 Account numberæ 012345678...   \n",
      "3    Hi Lloyd's Banking  Please can I query the fo...   \n",
      "4    Hi team,  Spoke to Peter this morning, I do n...   \n",
      "5    Hi team,  Request you to kindly provide an up...   \n",
      "6    Dear sirs  Please email a copy of the invoice...   \n",
      "7    Good day  I hope that you are well.  May you ...   \n",
      "8    Good Morning,   Please could I have account c...   \n",
      "9    Good Morning,  I have attempted to call your ...   \n",
      "10  Hi, Can you please send the statement for peri...   \n",
      "11  Hi Phil, In our account with sort code : 30-00...   \n",
      "12  Hi team, I need the feb statement for the acco...   \n",
      "13  Hi ,  In our account with sort code : 30-00-01...   \n",
      "14  Hi Anne, As we spoke, I need the statement for...   \n",
      "15  Hi Andy, There is an unkown amount if £190 has...   \n",
      "16  Hello, I need the loan statement of the accoun...   \n",
      "17  Hi, I need more information on the transaction...   \n",
      "18   Hi team,  Request you to kindly provide an up...   \n",
      "19  Hi, we have received an amount £908 in our acc...   \n",
      "20   Hi Team,We have received a return of GBP450 w...   \n",
      "21   Our Direct Debit Account, Sort code 300001, A...   \n",
      "22  Dear JohnFurther to our telephone conversation...   \n",
      "23  Dear Sirs,Attached is a new standing order ins...   \n",
      "24  Please could you help us identify the Credit o...   \n",
      "25  Good afternoon,Please could you cancel the fol...   \n",
      "26   Hi,Please see the attached. The standing orde...   \n",
      "27  Hello,Ió»ve attached a Bacs Proof Request Form...   \n",
      "28  Hi,Kindly arrange BACS proof for the attached ...   \n",
      "29  Good MorningCould we have the bacs forecast pl...   \n",
      "..                                                ...   \n",
      "31  Hello, Can you please cancel DD we have in the...   \n",
      "32  Good morning, The direct debited we have setup...   \n",
      "33  Please cancel all the direct debits in the acc...   \n",
      "34  Hello, Can you please recall the BACS. Details...   \n",
      "35  Can you please send me all the deriect debits ...   \n",
      "36  Hi Pete, One of the DD in our account 30-00-01...   \n",
      "37  Hi,Kindly arrange BACS proof for the attached ...   \n",
      "38  Please cancel the DD processed on 18th of ever...   \n",
      "39  Hi Servicing team, We want to cancel the direc...   \n",
      "40  Hello, Could we have the bacs forecast please ...   \n",
      "41  Please find attached 2 closures of accounts fo...   \n",
      "42  Hi Matt,  We would like to close the GBP accou...   \n",
      "43  Please close the account(s) listed below. Plea...   \n",
      "44  I am writing to inform you that we are closing...   \n",
      "45  Please close the account 30-00-01 819188111. P...   \n",
      "46  Hello,\\r\\rCan you please close the account bel...   \n",
      "47  Hi Servicing team, \\r\\rPlease go ahead and clo...   \n",
      "48  Hi Ron\\r\\rAs discussed, Please close the follo...   \n",
      "49  Hi,\\r\\rPlease find attached details of the acc...   \n",
      "50  Hi Servicing team,\\r\\rWe have decided to close...   \n",
      "51  Hello,\\r\\rPlease find the attached form for cl...   \n",
      "52  I am writing to inform you that we are closing...   \n",
      "53  Hi Neil,\\r\\rAs we spoke over phone can you ple...   \n",
      "54  Please find attached forms to close the accoun...   \n",
      "55  Hi Tim,\\r\\rAs explained over the call, please ...   \n",
      "56  Hey John,\\r\\rwe want to move the money from th...   \n",
      "57  Hi,\\r\\rWe are closing down our operations in b...   \n",
      "58  Hi,\\r\\r\\rAs we are moving all the operations f...   \n",
      "59  Hi,\\r\\rWe are closing down the excess accounts...   \n",
      "60  Hi,\\r\\rOne of the account connected with our M...   \n",
      "\n",
      "                            Class  \n",
      "0   Credit and account statements  \n",
      "1   Credit and account statements  \n",
      "2   Credit and account statements  \n",
      "3   Credit and account statements  \n",
      "4   Credit and account statements  \n",
      "5   Credit and account statements  \n",
      "6   Credit and account statements  \n",
      "7   Credit and account statements  \n",
      "8   Credit and account statements  \n",
      "9   Credit and account statements  \n",
      "10  Credit and account statements  \n",
      "11  Credit and account statements  \n",
      "12  Credit and account statements  \n",
      "13  Credit and account statements  \n",
      "14  Credit and account statements  \n",
      "15  Credit and account statements  \n",
      "16  Credit and account statements  \n",
      "17  Credit and account statements  \n",
      "18  Credit and account statements  \n",
      "19  Credit and account statements  \n",
      "20          Direct debit and Bacs  \n",
      "21          Direct debit and Bacs  \n",
      "22          Direct debit and Bacs  \n",
      "23          Direct debit and Bacs  \n",
      "24          Direct debit and Bacs  \n",
      "25          Direct debit and Bacs  \n",
      "26          Direct debit and Bacs  \n",
      "27          Direct debit and Bacs  \n",
      "28          Direct debit and Bacs  \n",
      "29          Direct debit and Bacs  \n",
      "..                            ...  \n",
      "31          Direct debit and Bacs  \n",
      "32          Direct debit and Bacs  \n",
      "33          Direct debit and Bacs  \n",
      "34          Direct debit and Bacs  \n",
      "35          Direct debit and Bacs  \n",
      "36          Direct debit and Bacs  \n",
      "37          Direct debit and Bacs  \n",
      "38          Direct debit and Bacs  \n",
      "39          Direct debit and Bacs  \n",
      "40          Direct debit and Bacs  \n",
      "41               Account closures  \n",
      "42               Account closures  \n",
      "43               Account closures  \n",
      "44               Account closures  \n",
      "45               Account closures  \n",
      "46               Account closures  \n",
      "47               Account closures  \n",
      "48               Account closures  \n",
      "49               Account closures  \n",
      "50               Account closures  \n",
      "51               Account closures  \n",
      "52               Account closures  \n",
      "53               Account closures  \n",
      "54               Account closures  \n",
      "55               Account closures  \n",
      "56               Account closures  \n",
      "57               Account closures  \n",
      "58               Account closures  \n",
      "59               Account closures  \n",
      "60               Account closures  \n",
      "\n",
      "[61 rows x 3 columns]\n"
     ]
    }
   ],
   "source": [
    "\"\"\"\n",
    "The purposr of this program is to classify the emails \n",
    "based on a training dataset and predict the upcoming emails\n",
    "into categories\n",
    "\"\"\"\n",
    "import csv\n",
    "import numpy as np\n",
    "import pandas as pd\n",
    "\n",
    "# importing email dataset from the csv\n",
    "dataset = pd.read_csv('test.csv', encoding='iso-8859-1')\n",
    "print(dataset)\n"
   ]
  },
  {
   "cell_type": "code",
   "execution_count": 2,
   "metadata": {},
   "outputs": [
    {
     "name": "stdout",
     "output_type": "stream",
     "text": [
      "[['Enq ref: 12345678   Missing Bank Statement - ABC Fund', ' Hi,   For reference, I attach a copy of an earlier statement.   I appear to be missing a statement for the above account for the periodfrom 31/09/16. The balance on the account at that point was £11,415.21.  I would like a copy statement that covers the period through to 31/1/17 please.  Thanks.  Regards,  Mich ', '0'], ['CBO-2291811 Statement needed', ' Please could you help us identify the Credit on our account as per below,   NCC Account, Sort code 300001, Account: 012345678  On the 02th Jun 2017 there is a credit on our account for £140 ref BBC/HGAA , please could you provide us with any details that you have to allow us to do our investigation to move the money to the correct account.  Kind Regards, Mandy', '0'], ['DWF LLP', ' Sort Code 30-00-01 Account number 012345678  Hi  Please can you tell me which bank account the following payment came from..  22.05.17 £20.00 K Paul  Many thanks  Kind regards Beck', '0'], ['ABC Industries - Bank Statement Queries', \" Hi Lloyd's Banking  Please can I query the followingentries on our bank account as we have no record at all of these transactions:  Sort Code: 30-00-01 Bank Account:012345678  Statement Date: 01/01/2017 Amount: £21.35 (dr) Narrative:Online transaction   Statement Date: 02/02/2017 Amount: £54.30 (dr) Narrative:OnlinePremier tra   Statement Date: 23/03/2017 Amount: £55.33 (dr) Narrative:Online tra from service  Kind Regards Emre \", '0'], ['URGENT Statements', ' Hi team,  Spoke to Peter this morning, I do not have access to the closing ledger balances for Thurs 11th May and have an issue with Lloyds link and am unable to gain access to the statements.  Can you please provide me with the bank statements for 18th, 19th May and the opening statement for today for the following bank accounts?   ABC BL  30-00-01 00123456  CBA PLC 30-00-01 01234567  ABC USD 30-01-01 11223344  ABC EUR 30-02-02 88664422  John Lewis ', '0'], ['CBO-1234567 / 123456789 / DDA No. - 0123456. Amount GBP551.10, GBP220, GBP711', ' Hi team,  Request you to kindly provide an update on the below Debit of GBP220.  Requested further information. Query reference 123456789   Thanks and Regards, Pankaj', '0'], ['Copy Invoice', ' Dear sirs  Please email a copy of the invoice 123456 for £12,924 debited to our account- statement attached.  Many thanks Cat ', '0'], ['Payment in query', ' Good day  I hope that you are well.  May you be so kind as to confirm what this receipt relates to please?  Is this a rebate payment for 2016/2017 for the Corporate card , is this based on a percentage of the usage ?  300001-01234567 (GBP) - ABC QA MN LONDON 12-Jun-17 F/FLOW F/FLOW LLOYDS BANK TFR CARD REBATE    109.7 2824982   Thank you  Kind regards Rob ', '0'], ['ABC sales limited', ' Good Morning,   Please could I have account closing statements for the below accounts that have closed;   Account Name Account Number Sort Code ABC sales limited 12345678 30-00-01 ABC sales limited 23456789 30-00-01 ABC sales limited 34567890 30-00-01 ABC sales limited 45678901 30-00-01 ABC sales limited 56789012 30-00-01  Thanks Mandy ', '0'], ['Loan Account Statement Request', ' Good Morning,  I have attempted to call your corporate telephone service, but have been unable to get through security as the statements we hold on the account are too old. Please can I request a PDF statement for the CBCA Trust loan account from 05/01/2016 to current day. The account details are as follows:  Sort Code: 30-00-01 Account Number: 1234567 Account Name: CBCA Trust   If there is anything further that you require from me, then please let me know.  Thank you,  Kind regards, ', '0'], ['Statement required', 'Hi, Can you please send the statement for period 01-May-2016 till 01-May-2017 of the closed account 30-00-01 891123911. Regards, Kunal', '0'], ['£210 credited in CBO-8819111', 'Hi Phil, In our account with sort code : 30-00-01 account number : 19891918 we have recived an amount of £210 on 23/01/2017. We want to undertand more about it. Can you please let me know the details of it. Regards, Anne', '0'], ['Statement needed for feb 2015', 'Hi team, I need the feb statement for the account 30-00-01 112388191. Please send it ASAP. Regards, Kim', '0'], ['£2021 on 24-Jun to ACC no.091121111', 'Hi ,  In our account with sort code : 30-00-01 account number : 19891918 we have recived an amount of £2021 on 03/02/2017. It has the decstiption of paypal payment. I believe we need more clarification on this transaction. Regards, Anne', '0'], ['Account statement required', 'Hi Anne, As we spoke, I need the statement for the period of 02/01/2017 till 01/03/2017. Thanks, Jesus', '0'], ['VBB LTD - £190 credited', 'Hi Andy, There is an unkown amount if £190 has been credited to our account on 03/03/2017. Can you please send me the details of this transaction', '0'], ['Loan statement ', 'Hello, I need the loan statement of the account 30-00-01 9818928191 for the period of Jun-2017 till Apr-2017, Please sent it as a PDF. Thanks, Phil', '0'], ['Invoice of Ref-21144111', 'Hi, I need more information on the transaction with the refernece number 21144111 on the date 22 Jun 2017. The amount credit is £89', '0'], ['CBO-1234567 / 123456789 / DDA No. - 9810011 Amount GBP120', ' Hi team,  Request you to kindly provide an update on the Debit of GBP120.  Requested further information. Query reference 123456789   Thanks and Regards, Pankaj', '0'], ['Unknown credit in account', 'Hi, we have received an amount £908 in our account 30-00-01 9188991 on 30 May 2017 which we donÍt recognize. Can you please let us know where it came from? Thanks, Scott', '0'], ['DDA óñ 5474113 Amount GBP450 value Date - 12th May 2017', ' Hi Team,We have received a return of GBP450 with the value date 12th May 2017 in our DDA - 5474113.The sort code is 500084The account number is 5474113Request you to kindly provide us with the swift details of the same and the reasons of return.Thanks and Regards,SS', '1'], ['Direct Debit Credit query', ' Our Direct Debit Account, Sort code 300001, Account: 012345678  On the 02th Jun 2017 there is a debit on our account for £140 ref BBC/HGAA , please could you provide us with any details that you have to allow us to do our investigation.  Kind Regards, Mandy', '1'], ['Send data from MFP11682801 19/05/2017 16:34', 'Dear JohnFurther to our telephone conversation, please find attached a copy of the BTC paying a cheque in the sum of £13,147.78 that has yet to be credited to our client account.Kind regards Tejas', '1'], ['Standing order instruction', 'Dear Sirs,Attached is a new standing order instruction. Kindly confirm when it has been actioned.Thanks & Kind regards Lisa', '1'], ['Direct Debit Credit query', 'Please could you help us identify the Credit on our account as per below, NCC Direct Debit Account, Sort code 300001, Account: 012345678On the 02th Jun 2017 there is a credit on our account for £140 ref AAC/HGCC , please could you provide us with any details that you have to allow us to do our investigation to move the money to the correct account.', '1'], ['Cancellation of DD', 'Good afternoon,Please could you cancel the following DD with immediate effect?Account name: ABC CompanySort code:30-00-01Account number: 012345678Beneficiary: XYZ Ins LtdDate of DD:10thReference: 12345-E10201/1/L', '1'], ['Standing Orders T MNC & J Kenny', ' Hi,Please see the attached. The standing order we placed on 26th of every month is not processed. Can you please investigate.Many thanks. Sally', '1'], ['CBO-1484546 : Bacs Trace Request', 'Hello,Ió»ve attached a Bacs Proof Request Form.Can a bacs trace be done on the figure details therein Regards John', '1'], ['BACS proof 299638556', 'Hi,Kindly arrange BACS proof for the attached payment. Thanks, MM', '1'], ['Bacs', 'Good MorningCould we have the bacs forecast please for the below account, for01stMay30-00-01 012345786 Kind Regards, Ryan', '1'], ['BACSRECALL FROM', ' Dear Client Servicing,Please can this BACS recall be processed by 12pm to hit the cut off please.Any queries please call me using the details on the form or below. Kind Regards, Black', '1'], ['Direct debit cancellation', 'Hello, Can you please cancel DD we have in the account 30-00-01 18172911 which is setup on 20th of every month', '1'], ['Direct debit returned', 'Good morning, The direct debited we have setup on the account 30-00-01 1818191 on 23rd of every month has been processed but the there is a cancellation of the same on the next day. Can you please explain what happened. Thanks, Caroline', '1'], ['Cancel DD', 'Please cancel all the direct debits in the account 30-00-01 123111 as we will be closing this accoutn shortly', '1'], ['BACS recall', 'Hello, Can you please recall the BACS. Details of it is attached. Contact me if you need more info. Thanks, Matt', '1'], ['Direct debit query', 'Can you please send me all the deriect debits associated with the closed account 300001 12311124. ', '1'], ['DD not processed', 'Hi Pete, One of the DD in our account 30-00-01 123123121 debited on 24th of every month is not processed in Jun 2017. Can you please let me know why. Thanks, Kim', '1'], ['Need info on BACS ', 'Hi,Kindly arrange BACS proof for the attached payment.', '1'], ['CBO-1238781 DD cancellation', 'Please cancel the DD processed on 18th of everymonth from our account 30-00-01 019181911', '1'], ['DD cancelllation for the account 98719911', 'Hi Servicing team, We want to cancel the direct debit processed on 10th of every month from our account 30-00-01 019181911', '1'], ['Bacs forecast', 'Hello, Could we have the bacs forecast please for the below account, for 01st Jul 30-00-01 012345786 Kind Regards, Mandy', '1'], ['Closure of Accounts', 'Please find attached 2 closures of accounts for 2 of our clients', '2'], ['ACME Phone LTD Manchester Branch - bank account closure  12345-K2C3B9', 'Hi Matt,  We would like to close the GBP account of ACME Phone LTD  Manchester Branch with Lloyds asap. Attached is the account closure instruction which will be sent to you by courier soon. Can you advise if it is possible for the account to be closed by this month end? Appreciate you help. Thanks and Regards, Ron', '2'], ['Closing account 21312311', 'Please close the account(s) listed below. Please send any remaining funds in those accounts by check to the address below, and reject any further requests for transactions in these accounts.Sort code : 30-00-01Account number : 21312311Please provide written confirmation that the account is closed.If you have any questions, please contact me at the phone number below.Thank you,Phil071223 12311', '2'], ['ABC Industries - Account closures', 'I am writing to inform you that we are closing out account at your bank. Please close the following account listed below.Sort code : 30-00-01Account Number: 12311112This letter also confirms that I have deactivated all automatic recurring transactions on my account. ', '2'], ['30-00-01 819188111 - Closing account', 'Please close the account 30-00-01 819188111. Please transfer all the balance to the account 30-00-01 188719111. Thanks, Ron', '2'], ['BNB accountants ', 'Hello,Can you please close the account belowSort code : 30-00-01 Acc No. 123181817Please cancel all the direct debits as well. We have moved the funs alreadyThanks,Tim', '2'], ['AKN Industries - Close secondary account', 'Hi Servicing team, Please go ahead and close the account 30-00-01 1231111 as discussed. I will be sendong th documents shortlyThanks,DD', '2'], ['Closing multiple accounts', 'Hi RonAs discussed, Please close the following accounts30-00-01 12312312330-00-01 123181811Please find attached document signed by all parties', '2'], ['Closing account - RCA metals', 'Hi,Please find attached details of the account to be closed. All the funds has been moved as wellThanks,Tom', '2'], ['Closures', 'Hi Servicing team,We have decided to close all the accounts in Manchester. Can you please close the below accountsSortcode : 30-00-01 Account number : 123123411Sortcode : 30-00-02 Accoutn number : 123124817Thanks,Boring', '2'], ['TNT LTD accounts', 'Hello,Please find the attached form for closing our accounts. We have 3 accounts to be closed. All the funds have been transferred to other accounts already.Thanks,Killme', '2'], ['TBT industries account closures', 'I am writing to inform you that we are closing out account at your bank. Please close the following account listed below.Sort code : 30-00-01Account Number: 098871121', '2'], ['CB0-11231231 Closing account 30-00-01 1181911', 'Hi Neil,As we spoke over phone can you please close the account 30-00-01 1181911. I have moved the funds to the other account.Thanks,Mu', '2'], ['Accounts to close', 'Please find attached forms to close the accounts related to BNK limited. Thanks,KL', '2'], ['Multiple accounts closure', 'Hi Tim,As explained over the call, please go ahed and closeSortcode : 30-00-01 Account number : 123123411Sortcode : 30-00-02 Accoutn number : 123124817Thanks,Very Boring', '2'], ['Moving funds to other account', 'Hey John,we want to move the money from the account 30-00-01 12388811 to 30-00-02 123123123 and then please go ahead and close 30-00-01 12388811.Attached all the forms. ', '2'], ['Closing operations in birmingham', 'Hi,We are closing down our operations in birmingham. We want to close all the accounts related to the branch.I haave attached the documents needed with all account info.Thanks,Killme immediately', '2'], ['Moving operations to london', 'Hi,As we are moving all the operations from manchester to london. Please move our funds from 30-00-01. 123123123 to 30-10-10 12312312312 and then close the account in manchester.Thanks,Iam Dead', '2'], ['Unwanted accounts', 'Hi,We are closing down the excess accounts we have. Please close the the following accountsSortcode : 30-00-01 Account number : 123123411Sortcode : 30-00-02 Accoutn number : 123124817Thanks,Zombie', '2'], ['Closing the last account in Manchester', 'Hi,One of the account connected with our Manchester operations is not closed yet. Can you please close it. Sort code : 30-00-01Account Number: 098871121Regards,White Walker', '2']]\n"
     ]
    }
   ],
   "source": [
    "# Replacing the special characters into empty strings\n",
    "dataset['Subject'] = dataset['Subject'].map(lambda x: x.replace('\\xe6', ''))\n",
    "dataset['Subject'] = dataset['Subject'].map(lambda x: x.replace('\\r', ''))\n",
    "dataset['Message'] = dataset['Message'].map(lambda x: x.replace('\\xe6', ''))\n",
    "dataset['Message'] = dataset['Message'].map(lambda x: x.replace('\\r', ''))\n",
    "# Replacing the string labels into 0,1,2. Please refer to the below table for mapping\n",
    "# 'Credit and account statements' => 0\n",
    "# 'Direct debit and Bacs' => 1\n",
    "# 'Account closures' => 2\n",
    "dataset['Class'] = dataset['Class'].map(lambda x: x.replace('Credit and account statements', '0'))\n",
    "dataset['Class'] = dataset['Class'].map(lambda x: x.replace('Direct debit and Bacs', '1'))\n",
    "dataset['Class'] = dataset['Class'].map(lambda x: x.replace('Account closures', '2'))\n",
    "print(dataset.values.tolist())"
   ]
  },
  {
   "cell_type": "code",
   "execution_count": 62,
   "metadata": {},
   "outputs": [
    {
     "name": "stdout",
     "output_type": "stream",
     "text": [
      "[[' Hi,   For reference, I attach a copy of an earlier statement.   I appear to be missing a statement for the above account for the periodfrom 31/09/16. The balance on the account at that point was £11,415.21.  I would like a copy statement that covers the period through to 31/1/17 please.  Thanks.  Regards,  Mich '], [' Please could you help us identify the Credit on our account as per below,   NCC Account, Sort code 300001, Account: 012345678  On the 02th Jun 2017 there is a credit on our account for £140 ref BBC/HGAA , please could you provide us with any details that you have to allow us to do our investigation to move the money to the correct account.  Kind Regards, Mandy'], [' Sort Code 30-00-01 Account number 012345678  Hi  Please can you tell me which bank account the following payment came from..  22.05.17 £20.00 K Paul  Many thanks  Kind regards Beck'], [\" Hi Lloyd's Banking  Please can I query the followingentries on our bank account as we have no record at all of these transactions:  Sort Code: 30-00-01 Bank Account:012345678  Statement Date: 01/01/2017 Amount: £21.35 (dr) Narrative:Online transaction   Statement Date: 02/02/2017 Amount: £54.30 (dr) Narrative:OnlinePremier tra   Statement Date: 23/03/2017 Amount: £55.33 (dr) Narrative:Online tra from service  Kind Regards Emre \"], [' Hi team,  Spoke to Peter this morning, I do not have access to the closing ledger balances for Thurs 11th May and have an issue with Lloyds link and am unable to gain access to the statements.  Can you please provide me with the bank statements for 18th, 19th May and the opening statement for today for the following bank accounts?   ABC BL  30-00-01 00123456  CBA PLC 30-00-01 01234567  ABC USD 30-01-01 11223344  ABC EUR 30-02-02 88664422  John Lewis '], [' Hi team,  Request you to kindly provide an update on the below Debit of GBP220.  Requested further information. Query reference 123456789   Thanks and Regards, Pankaj'], [' Dear sirs  Please email a copy of the invoice 123456 for £12,924 debited to our account- statement attached.  Many thanks Cat '], [' Good day  I hope that you are well.  May you be so kind as to confirm what this receipt relates to please?  Is this a rebate payment for 2016/2017 for the Corporate card , is this based on a percentage of the usage ?  300001-01234567 (GBP) - ABC QA MN LONDON 12-Jun-17 F/FLOW F/FLOW LLOYDS BANK TFR CARD REBATE    109.7 2824982   Thank you  Kind regards Rob '], [' Good Morning,   Please could I have account closing statements for the below accounts that have closed;   Account Name Account Number Sort Code ABC sales limited 12345678 30-00-01 ABC sales limited 23456789 30-00-01 ABC sales limited 34567890 30-00-01 ABC sales limited 45678901 30-00-01 ABC sales limited 56789012 30-00-01  Thanks Mandy '], [' Good Morning,  I have attempted to call your corporate telephone service, but have been unable to get through security as the statements we hold on the account are too old. Please can I request a PDF statement for the CBCA Trust loan account from 05/01/2016 to current day. The account details are as follows:  Sort Code: 30-00-01 Account Number: 1234567 Account Name: CBCA Trust   If there is anything further that you require from me, then please let me know.  Thank you,  Kind regards, '], ['Hi, Can you please send the statement for period 01-May-2016 till 01-May-2017 of the closed account 30-00-01 891123911. Regards, Kunal'], ['Hi Phil, In our account with sort code : 30-00-01 account number : 19891918 we have recived an amount of £210 on 23/01/2017. We want to undertand more about it. Can you please let me know the details of it. Regards, Anne'], ['Hi team, I need the feb statement for the account 30-00-01 112388191. Please send it ASAP. Regards, Kim'], ['Hi ,  In our account with sort code : 30-00-01 account number : 19891918 we have recived an amount of £2021 on 03/02/2017. It has the decstiption of paypal payment. I believe we need more clarification on this transaction. Regards, Anne'], ['Hi Anne, As we spoke, I need the statement for the period of 02/01/2017 till 01/03/2017. Thanks, Jesus'], ['Hi Andy, There is an unkown amount if £190 has been credited to our account on 03/03/2017. Can you please send me the details of this transaction'], ['Hello, I need the loan statement of the account 30-00-01 9818928191 for the period of Jun-2017 till Apr-2017, Please sent it as a PDF. Thanks, Phil'], ['Hi, I need more information on the transaction with the refernece number 21144111 on the date 22 Jun 2017. The amount credit is £89'], [' Hi team,  Request you to kindly provide an update on the Debit of GBP120.  Requested further information. Query reference 123456789   Thanks and Regards, Pankaj'], ['Hi, we have received an amount £908 in our account 30-00-01 9188991 on 30 May 2017 which we donÍt recognize. Can you please let us know where it came from? Thanks, Scott'], [' Hi Team,We have received a return of GBP450 with the value date 12th May 2017 in our DDA - 5474113.The sort code is 500084The account number is 5474113Request you to kindly provide us with the swift details of the same and the reasons of return.Thanks and Regards,SS'], [' Our Direct Debit Account, Sort code 300001, Account: 012345678  On the 02th Jun 2017 there is a debit on our account for £140 ref BBC/HGAA , please could you provide us with any details that you have to allow us to do our investigation.  Kind Regards, Mandy'], ['Dear JohnFurther to our telephone conversation, please find attached a copy of the BTC paying a cheque in the sum of £13,147.78 that has yet to be credited to our client account.Kind regards Tejas'], ['Dear Sirs,Attached is a new standing order instruction. Kindly confirm when it has been actioned.Thanks & Kind regards Lisa'], ['Please could you help us identify the Credit on our account as per below, NCC Direct Debit Account, Sort code 300001, Account: 012345678On the 02th Jun 2017 there is a credit on our account for £140 ref AAC/HGCC , please could you provide us with any details that you have to allow us to do our investigation to move the money to the correct account.'], ['Good afternoon,Please could you cancel the following DD with immediate effect?Account name: ABC CompanySort code:30-00-01Account number: 012345678Beneficiary: XYZ Ins LtdDate of DD:10thReference: 12345-E10201/1/L'], [' Hi,Please see the attached. The standing order we placed on 26th of every month is not processed. Can you please investigate.Many thanks. Sally'], ['Hello,Ió»ve attached a Bacs Proof Request Form.Can a bacs trace be done on the figure details therein Regards John'], ['Hi,Kindly arrange BACS proof for the attached payment. Thanks, MM'], ['Good MorningCould we have the bacs forecast please for the below account, for01stMay30-00-01 012345786 Kind Regards, Ryan'], [' Dear Client Servicing,Please can this BACS recall be processed by 12pm to hit the cut off please.Any queries please call me using the details on the form or below. Kind Regards, Black'], ['Hello, Can you please cancel DD we have in the account 30-00-01 18172911 which is setup on 20th of every month'], ['Good morning, The direct debited we have setup on the account 30-00-01 1818191 on 23rd of every month has been processed but the there is a cancellation of the same on the next day. Can you please explain what happened. Thanks, Caroline'], ['Please cancel all the direct debits in the account 30-00-01 123111 as we will be closing this accoutn shortly'], ['Hello, Can you please recall the BACS. Details of it is attached. Contact me if you need more info. Thanks, Matt'], ['Can you please send me all the deriect debits associated with the closed account 300001 12311124. '], ['Hi Pete, One of the DD in our account 30-00-01 123123121 debited on 24th of every month is not processed in Jun 2017. Can you please let me know why. Thanks, Kim'], ['Hi,Kindly arrange BACS proof for the attached payment.'], ['Please cancel the DD processed on 18th of everymonth from our account 30-00-01 019181911'], ['Hi Servicing team, We want to cancel the direct debit processed on 10th of every month from our account 30-00-01 019181911'], ['Hello, Could we have the bacs forecast please for the below account, for 01st Jul 30-00-01 012345786 Kind Regards, Mandy'], ['Please find attached 2 closures of accounts for 2 of our clients'], ['Hi Matt,  We would like to close the GBP account of ACME Phone LTD  Manchester Branch with Lloyds asap. Attached is the account closure instruction which will be sent to you by courier soon. Can you advise if it is possible for the account to be closed by this month end? Appreciate you help. Thanks and Regards, Ron'], ['Please close the account(s) listed below. Please send any remaining funds in those accounts by check to the address below, and reject any further requests for transactions in these accounts.Sort code : 30-00-01Account number : 21312311Please provide written confirmation that the account is closed.If you have any questions, please contact me at the phone number below.Thank you,Phil071223 12311'], ['I am writing to inform you that we are closing out account at your bank. Please close the following account listed below.Sort code : 30-00-01Account Number: 12311112This letter also confirms that I have deactivated all automatic recurring transactions on my account. '], ['Please close the account 30-00-01 819188111. Please transfer all the balance to the account 30-00-01 188719111. Thanks, Ron'], ['Hello,Can you please close the account belowSort code : 30-00-01 Acc No. 123181817Please cancel all the direct debits as well. We have moved the funs alreadyThanks,Tim'], ['Hi Servicing team, Please go ahead and close the account 30-00-01 1231111 as discussed. I will be sendong th documents shortlyThanks,DD'], ['Hi RonAs discussed, Please close the following accounts30-00-01 12312312330-00-01 123181811Please find attached document signed by all parties'], ['Hi,Please find attached details of the account to be closed. All the funds has been moved as wellThanks,Tom'], ['Hi Servicing team,We have decided to close all the accounts in Manchester. Can you please close the below accountsSortcode : 30-00-01 Account number : 123123411Sortcode : 30-00-02 Accoutn number : 123124817Thanks,Boring'], ['Hello,Please find the attached form for closing our accounts. We have 3 accounts to be closed. All the funds have been transferred to other accounts already.Thanks,Killme'], ['I am writing to inform you that we are closing out account at your bank. Please close the following account listed below.Sort code : 30-00-01Account Number: 098871121'], ['Hi Neil,As we spoke over phone can you please close the account 30-00-01 1181911. I have moved the funds to the other account.Thanks,Mu'], ['Please find attached forms to close the accounts related to BNK limited. Thanks,KL'], ['Hi Tim,As explained over the call, please go ahed and closeSortcode : 30-00-01 Account number : 123123411Sortcode : 30-00-02 Accoutn number : 123124817Thanks,Very Boring'], ['Hey John,we want to move the money from the account 30-00-01 12388811 to 30-00-02 123123123 and then please go ahead and close 30-00-01 12388811.Attached all the forms. '], ['Hi,We are closing down our operations in birmingham. We want to close all the accounts related to the branch.I haave attached the documents needed with all account info.Thanks,Killme immediately'], ['Hi,As we are moving all the operations from manchester to london. Please move our funds from 30-00-01. 123123123 to 30-10-10 12312312312 and then close the account in manchester.Thanks,Iam Dead'], ['Hi,We are closing down the excess accounts we have. Please close the the following accountsSortcode : 30-00-01 Account number : 123123411Sortcode : 30-00-02 Accoutn number : 123124817Thanks,Zombie'], ['Hi,One of the account connected with our Manchester operations is not closed yet. Can you please close it. Sort code : 30-00-01Account Number: 098871121Regards,White Walker']]\n",
      "[['0'], ['0'], ['0'], ['0'], ['0'], ['0'], ['0'], ['0'], ['0'], ['0'], ['0'], ['0'], ['0'], ['0'], ['0'], ['0'], ['0'], ['0'], ['0'], ['0'], ['1'], ['1'], ['1'], ['1'], ['1'], ['1'], ['1'], ['1'], ['1'], ['1'], ['1'], ['1'], ['1'], ['1'], ['1'], ['1'], ['1'], ['1'], ['1'], ['1'], ['1'], ['2'], ['2'], ['2'], ['2'], ['2'], ['2'], ['2'], ['2'], ['2'], ['2'], ['2'], ['2'], ['2'], ['2'], ['2'], ['2'], ['2'], ['2'], ['2'], ['2']]\n"
     ]
    }
   ],
   "source": [
    "# Extracting the features and labels from the cleaned dataset\n",
    "# features = dataset[['Subject','Message']].values.tolist();\n",
    "features = dataset[['Message']].values.tolist();\n",
    "labels = dataset[['Class']].values.tolist();\n",
    "print(features)\n",
    "print(labels)"
   ]
  },
  {
   "cell_type": "code",
   "execution_count": 63,
   "metadata": {},
   "outputs": [
    {
     "name": "stdout",
     "output_type": "stream",
     "text": [
      "Training features lenght:  42\n",
      "Training labels lenght:  42\n",
      "Testing features lenght:  19\n",
      "Testing labels lenght:  19\n"
     ]
    }
   ],
   "source": [
    "# Implementing cross validation by importing the library from sklearn\n",
    "from sklearn.cross_validation import train_test_split\n",
    "features_train, features_test, labels_train, labels_test = train_test_split(features, labels, \n",
    "                                                                            test_size=0.30, random_state=42)\n",
    "print(\"Training features lenght: \",len(features_train))\n",
    "print(\"Training labels lenght: \",len(labels_train))\n",
    "print(\"Testing features lenght: \",len(features_test))\n",
    "print(\"Testing labels lenght: \",len(labels_test))"
   ]
  },
  {
   "cell_type": "code",
   "execution_count": null,
   "metadata": {
    "scrolled": true
   },
   "outputs": [],
   "source": [
    "# Applying CountVectorizer from sklearn library\n",
    "# CountVectorizer implements both tokenization and occurrence counting in a single class\n",
    "#from sklearn.feature_extraction.text import CountVectorizer\n",
    "#count_vect = CountVectorizer()\n",
    "# Converting the multi dymensional array into single dymentional data\n",
    "# by unsing np.array(sum(features_train, []))\n",
    "# because TfidfVectorizer accepts single dymentional data\n",
    "#feature_train_counts = count_vect.fit_transform(np.array(sum(features_train, [])))\n",
    "#print(feature_train_counts.shape)\n",
    "\n",
    "\n",
    "# Applying CountVectorizer from sklearn library\n",
    "# CountVectorizer implements both tokenization and occurrence counting in a single class\n",
    "#from sklearn.feature_extraction.text import TfidfTransformer\n",
    "#tfidf_transformer = TfidfTransformer()\n",
    "#feature_train_tfidf = tfidf_transformer.fit_transform(feature_train_counts)\n",
    "#print(feature_train_tfidf)"
   ]
  },
  {
   "cell_type": "code",
   "execution_count": 64,
   "metadata": {},
   "outputs": [
    {
     "name": "stdout",
     "output_type": "stream",
     "text": [
      "(42, 1)\n",
      "(42, 1)\n",
      "(42,)\n",
      "(42,)\n"
     ]
    }
   ],
   "source": [
    "print(np.array(features_train).shape)\n",
    "print(np.array(labels_train).shape)\n",
    "features_train = np.array(sum(features_train, []))\n",
    "labels_train = np.array(sum(labels_train, []))\n",
    "features_test = np.array(sum(features_test, []))\n",
    "labels_test = np.array(sum(labels_test, []))\n",
    "print(features_train.shape)\n",
    "print(labels_train.shape)"
   ]
  },
  {
   "cell_type": "code",
   "execution_count": 65,
   "metadata": {},
   "outputs": [
    {
     "name": "stdout",
     "output_type": "stream",
     "text": [
      "(42, 430)\n",
      "(42,)\n"
     ]
    }
   ],
   "source": [
    "from sklearn.feature_extraction.text import CountVectorizer\n",
    "count_vect = CountVectorizer()\n",
    "X_train_counts = count_vect.fit_transform(features_train)\n",
    "print(X_train_counts.shape)\n",
    "print(labels_train.shape)"
   ]
  },
  {
   "cell_type": "code",
   "execution_count": 66,
   "metadata": {},
   "outputs": [],
   "source": [
    "from sklearn.feature_extraction.text import TfidfTransformer\n",
    "tfidf_transformer = TfidfTransformer()\n",
    "X_train_tfidf = tfidf_transformer.fit_transform(X_train_counts)"
   ]
  },
  {
   "cell_type": "code",
   "execution_count": 67,
   "metadata": {},
   "outputs": [],
   "source": [
    "from sklearn.naive_bayes import MultinomialNB\n",
    "clf = MultinomialNB().fit(X_train_tfidf, labels_train)"
   ]
  },
  {
   "cell_type": "code",
   "execution_count": 68,
   "metadata": {},
   "outputs": [],
   "source": [
    "from sklearn.pipeline import Pipeline\n",
    "text_clf = Pipeline([('vect', CountVectorizer()),\n",
    "                     ('tfidf', TfidfTransformer()),\n",
    "                     ('clf', MultinomialNB())])\n",
    "text_clf = text_clf.fit(features_train, labels_train)"
   ]
  },
  {
   "cell_type": "code",
   "execution_count": null,
   "metadata": {},
   "outputs": [],
   "source": [
    "import numpy as np\n",
    "predicted = text_clf.predict(features_test)\n",
    "np.mean(predicted == labels_test)"
   ]
  }
 ],
 "metadata": {
  "kernelspec": {
   "display_name": "Python with Pixiedust (Spark 2.2)",
   "language": "python",
   "name": "pythonwithpixiedustspark22"
  },
  "language_info": {
   "codemirror_mode": {
    "name": "ipython",
    "version": 3
   },
   "file_extension": ".py",
   "mimetype": "text/x-python",
   "name": "python",
   "nbconvert_exporter": "python",
   "pygments_lexer": "ipython3",
   "version": "3.6.2"
  }
 },
 "nbformat": 4,
 "nbformat_minor": 2
}
